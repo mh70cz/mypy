{
  "cells": [
    {
      "metadata": {},
      "cell_type": "markdown",
      "source": "Životní a existenční minimum  \nhttps://www.mpsv.cz/cs/11852  \nŽivotní minimum je minimální společensky uznaná hranice peněžních příjmů k zajištění výživy a ostatních základních osobních potřeb.  \nŽivotní minimum ani existenční minimum nezahrnují nezbytné náklady na bydlení."
    },
    {
      "metadata": {
        "trusted": true
      },
      "cell_type": "code",
      "source": "sam_dospela_osoba = 3410\nprvni_dospela_osoba = 3140\ndalsi_dospela_osoba = 2830\ndite_do_6_let = 1740\ndite_7az15_let = 2140\ndite_16az26_let = 2450\nkoef_zm = 1.5 # koeficient zivotniho minima",
      "execution_count": 5,
      "outputs": []
    },
    {
      "metadata": {},
      "cell_type": "markdown",
      "source": "Výše částek normativních nákladů na bydlení   \nhttps://portal.mpsv.cz/soc/ssp/obcane/prisp_na_bydleni"
    },
    {
      "metadata": {
        "trusted": true
      },
      "cell_type": "code",
      "source": "naklady_bydleni = 15288 # 3 najem\n\npocet_osob_v_domacnosti = 3    # <HouseholdNumberPersons>\npocet_deti_do_6_let = 0        # <NumberDependentPersons>\npocet_deti_7az15_let = 1       # <NumberDependentPersons1>\npocet_deti_16az26_let = 0      # <NumberDependentPersons2>\n\npocet_dospelych_osob = (pocet_osob_v_domacnosti -  pocet_deti_do_6_let - \n                        pocet_deti_7az15_let  - pocet_deti_16az26_let)\npocet_dalsich_dospelych_osob = (\n        pocet_dospelych_osob - 1 if pocet_dospelych_osob > 1 else 0)\nif pocet_osob_v_domacnosti == 1:\n    zivotni_minimum = sam_dospela_osoba * koef_zm\nelse:        \n    zivotni_minimum = ( prvni_dospela_osoba + \n                        pocet_dalsich_dospelych_osob * dalsi_dospela_osoba +\n                        pocet_deti_do_6_let * dite_do_6_let +\n                        pocet_deti_7az15_let * dite_7az15_let +\n                        pocet_deti_16az26_let * dite_16az26_let) * koef_zm\n\n",
      "execution_count": 6,
      "outputs": []
    },
    {
      "metadata": {
        "trusted": true
      },
      "cell_type": "code",
      "source": "splatky = 5716           # <TotalInstalmentVAT>\n\nsplatky_stavajici_zadatel = 9500 # <Liabilities>9500</Liabilities>\nsplatky_stavajici_NRKI = 9561\nsplatky_stavajci = max(splatky_stavajici_zadatel, splatky_stavajici_NRKI)\n\ncisty_mesicni_prijem = 26014     # Applicant <AverageMIAT>\ncisty_mesicni_prijem_man = 15440 # coApplicant <AverageMIAT>\n\nprijmy = cisty_mesicni_prijem + cisty_mesicni_prijem_man\n\nnaklady = zivotni_minimum + naklady_bydleni + splatky_stavajci\ndisponibilni_prijem = prijmy - naklady - splatky",
      "execution_count": 10,
      "outputs": []
    },
    {
      "metadata": {
        "trusted": true
      },
      "cell_type": "code",
      "source": "print(f\"Zivotni minimum:      {zivotni_minimum}\")\nprint(f\"Prijmy:               {prijmy}\")\nprint(f\"Naklady:              {naklady}\")\nprint(f\"Disponibilni prijem:  {disponibilni_prijem}\")",
      "execution_count": 11,
      "outputs": [
        {
          "output_type": "stream",
          "text": "Zivotni minimum:     12165.0\nPrijmy:              41454\nNaklady:             37014.0\ndisponibilni prijem: -1276.0\n",
          "name": "stdout"
        }
      ]
    },
    {
      "metadata": {
        "trusted": true
      },
      "cell_type": "code",
      "source": "",
      "execution_count": null,
      "outputs": []
    }
  ],
  "metadata": {
    "kernelspec": {
      "name": "python36",
      "display_name": "Python 3.6",
      "language": "python"
    },
    "language_info": {
      "mimetype": "text/x-python",
      "nbconvert_exporter": "python",
      "name": "python",
      "pygments_lexer": "ipython3",
      "version": "3.6.6",
      "file_extension": ".py",
      "codemirror_mode": {
        "version": 3,
        "name": "ipython"
      }
    }
  },
  "nbformat": 4,
  "nbformat_minor": 2
}